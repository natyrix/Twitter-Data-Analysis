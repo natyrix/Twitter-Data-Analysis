{
 "cells": [
  {
   "cell_type": "markdown",
   "metadata": {},
   "source": [
    "## IMPORT MODULES"
   ]
  },
  {
   "cell_type": "code",
   "execution_count": 22,
   "metadata": {},
   "outputs": [],
   "source": [
    "import pandas as pd\n",
    "import sys\n",
    "import os\n",
    "import re\n",
    "\n",
    "sys.path.append(os.path.abspath(os.path.join('..')))\n",
    "from extract_dataframe import TweetDfExtractor\n",
    "from extract_dataframe import read_json\n",
    "from clean_tweets_dataframe import Clean_Tweets\n",
    "_, global_tweet_list = read_json(\"../data/global_twitter_data.json\")"
   ]
  },
  {
   "cell_type": "markdown",
   "metadata": {},
   "source": [
    "## INITIALIZE TweetDfExtractor INSTANCE AND GET DATA"
   ]
  },
  {
   "cell_type": "code",
   "execution_count": 23,
   "metadata": {},
   "outputs": [],
   "source": [
    "global_tweet_df_extractor = TweetDfExtractor(global_tweet_list)\n",
    "global_tweets_df = global_tweet_df_extractor.get_tweet_df()"
   ]
  },
  {
   "cell_type": "markdown",
   "metadata": {},
   "source": [
    "## DATA PREPARATION"
   ]
  },
  {
   "cell_type": "markdown",
   "metadata": {},
   "source": [
    "#### CHECK IF ALL DESIRED COLUMNS ARE EXTRACTED "
   ]
  },
  {
   "cell_type": "code",
   "execution_count": 24,
   "metadata": {},
   "outputs": [
    {
     "data": {
      "text/html": [
       "<div>\n",
       "<style scoped>\n",
       "    .dataframe tbody tr th:only-of-type {\n",
       "        vertical-align: middle;\n",
       "    }\n",
       "\n",
       "    .dataframe tbody tr th {\n",
       "        vertical-align: top;\n",
       "    }\n",
       "\n",
       "    .dataframe thead th {\n",
       "        text-align: right;\n",
       "    }\n",
       "</style>\n",
       "<table border=\"1\" class=\"dataframe\">\n",
       "  <thead>\n",
       "    <tr style=\"text-align: right;\">\n",
       "      <th></th>\n",
       "      <th>created_at</th>\n",
       "      <th>source</th>\n",
       "      <th>full_text</th>\n",
       "      <th>polarity</th>\n",
       "      <th>subjectivity</th>\n",
       "      <th>sentiment</th>\n",
       "      <th>lang</th>\n",
       "      <th>favorite_count</th>\n",
       "      <th>retweet_count</th>\n",
       "      <th>original_author</th>\n",
       "      <th>followers_count</th>\n",
       "      <th>friends_count</th>\n",
       "      <th>possibly_sensitive</th>\n",
       "      <th>hashtags</th>\n",
       "      <th>user_mentions</th>\n",
       "      <th>place</th>\n",
       "    </tr>\n",
       "  </thead>\n",
       "  <tbody>\n",
       "    <tr>\n",
       "      <th>0</th>\n",
       "      <td>Sun Aug 07 22:31:20 +0000 2022</td>\n",
       "      <td>&lt;a href=\"http://twitter.com/download/android\" ...</td>\n",
       "      <td>RT @i_ameztoy Extra random image I Lets focus ...</td>\n",
       "      <td>-1.250000e-01</td>\n",
       "      <td>0.190625</td>\n",
       "      <td>negative</td>\n",
       "      <td>en</td>\n",
       "      <td>15760</td>\n",
       "      <td>2</td>\n",
       "      <td>i_ameztoy</td>\n",
       "      <td>20497</td>\n",
       "      <td>2621</td>\n",
       "      <td>None</td>\n",
       "      <td>City++++</td>\n",
       "      <td>i_ameztoy++++</td>\n",
       "      <td></td>\n",
       "    </tr>\n",
       "    <tr>\n",
       "      <th>1</th>\n",
       "      <td>Sun Aug 07 22:31:16 +0000 2022</td>\n",
       "      <td>&lt;a href=\"http://twitter.com/download/android\" ...</td>\n",
       "      <td>RT @IndoPac_Info #Chinas media explains the mi...</td>\n",
       "      <td>-1.000000e-01</td>\n",
       "      <td>0.100000</td>\n",
       "      <td>negative</td>\n",
       "      <td>en</td>\n",
       "      <td>6967</td>\n",
       "      <td>201</td>\n",
       "      <td>ZIisq</td>\n",
       "      <td>65</td>\n",
       "      <td>272</td>\n",
       "      <td>None</td>\n",
       "      <td>China++++Taiwan++++</td>\n",
       "      <td>IndoPac_Info++++</td>\n",
       "      <td></td>\n",
       "    </tr>\n",
       "    <tr>\n",
       "      <th>2</th>\n",
       "      <td>Sun Aug 07 22:31:07 +0000 2022</td>\n",
       "      <td>&lt;a href=\"http://twitter.com/download/android\" ...</td>\n",
       "      <td>China even cut off communication they dont anw...</td>\n",
       "      <td>0.000000e+00</td>\n",
       "      <td>0.000000</td>\n",
       "      <td>neutral</td>\n",
       "      <td>en</td>\n",
       "      <td>2166</td>\n",
       "      <td>0</td>\n",
       "      <td>Fin21Free</td>\n",
       "      <td>85</td>\n",
       "      <td>392</td>\n",
       "      <td>None</td>\n",
       "      <td>XiJinping++++</td>\n",
       "      <td>ZelenskyyUa++++</td>\n",
       "      <td>Netherlands</td>\n",
       "    </tr>\n",
       "    <tr>\n",
       "      <th>3</th>\n",
       "      <td>Sun Aug 07 22:31:06 +0000 2022</td>\n",
       "      <td>&lt;a href=\"http://twitter.com/download/android\" ...</td>\n",
       "      <td>Putin to #XiJinping I told you my friend Taiwa...</td>\n",
       "      <td>1.000000e-01</td>\n",
       "      <td>0.350000</td>\n",
       "      <td>positive</td>\n",
       "      <td>en</td>\n",
       "      <td>2166</td>\n",
       "      <td>0</td>\n",
       "      <td>Fin21Free</td>\n",
       "      <td>85</td>\n",
       "      <td>392</td>\n",
       "      <td>None</td>\n",
       "      <td>XiJinping++++</td>\n",
       "      <td></td>\n",
       "      <td>Netherlands</td>\n",
       "    </tr>\n",
       "    <tr>\n",
       "      <th>4</th>\n",
       "      <td>Sun Aug 07 22:31:04 +0000 2022</td>\n",
       "      <td>&lt;a href=\"http://twitter.com/download/iphone\" r...</td>\n",
       "      <td>RT @ChinaUncensored I’m sorry I thought Taiwan...</td>\n",
       "      <td>-6.938894e-18</td>\n",
       "      <td>0.556250</td>\n",
       "      <td>negative</td>\n",
       "      <td>en</td>\n",
       "      <td>17247</td>\n",
       "      <td>381</td>\n",
       "      <td>VizziniDolores</td>\n",
       "      <td>910</td>\n",
       "      <td>2608</td>\n",
       "      <td>None</td>\n",
       "      <td></td>\n",
       "      <td>ChinaUncensored++++</td>\n",
       "      <td>Ayent, Schweiz</td>\n",
       "    </tr>\n",
       "  </tbody>\n",
       "</table>\n",
       "</div>"
      ],
      "text/plain": [
       "                       created_at  \\\n",
       "0  Sun Aug 07 22:31:20 +0000 2022   \n",
       "1  Sun Aug 07 22:31:16 +0000 2022   \n",
       "2  Sun Aug 07 22:31:07 +0000 2022   \n",
       "3  Sun Aug 07 22:31:06 +0000 2022   \n",
       "4  Sun Aug 07 22:31:04 +0000 2022   \n",
       "\n",
       "                                              source  \\\n",
       "0  <a href=\"http://twitter.com/download/android\" ...   \n",
       "1  <a href=\"http://twitter.com/download/android\" ...   \n",
       "2  <a href=\"http://twitter.com/download/android\" ...   \n",
       "3  <a href=\"http://twitter.com/download/android\" ...   \n",
       "4  <a href=\"http://twitter.com/download/iphone\" r...   \n",
       "\n",
       "                                           full_text      polarity  \\\n",
       "0  RT @i_ameztoy Extra random image I Lets focus ... -1.250000e-01   \n",
       "1  RT @IndoPac_Info #Chinas media explains the mi... -1.000000e-01   \n",
       "2  China even cut off communication they dont anw...  0.000000e+00   \n",
       "3  Putin to #XiJinping I told you my friend Taiwa...  1.000000e-01   \n",
       "4  RT @ChinaUncensored I’m sorry I thought Taiwan... -6.938894e-18   \n",
       "\n",
       "   subjectivity sentiment lang  favorite_count  retweet_count original_author  \\\n",
       "0      0.190625  negative   en           15760              2       i_ameztoy   \n",
       "1      0.100000  negative   en            6967            201           ZIisq   \n",
       "2      0.000000   neutral   en            2166              0       Fin21Free   \n",
       "3      0.350000  positive   en            2166              0       Fin21Free   \n",
       "4      0.556250  negative   en           17247            381  VizziniDolores   \n",
       "\n",
       "   followers_count  friends_count possibly_sensitive             hashtags  \\\n",
       "0            20497           2621               None             City++++   \n",
       "1               65            272               None  China++++Taiwan++++   \n",
       "2               85            392               None        XiJinping++++   \n",
       "3               85            392               None        XiJinping++++   \n",
       "4              910           2608               None                        \n",
       "\n",
       "         user_mentions           place  \n",
       "0        i_ameztoy++++                  \n",
       "1     IndoPac_Info++++                  \n",
       "2      ZelenskyyUa++++     Netherlands  \n",
       "3                          Netherlands  \n",
       "4  ChinaUncensored++++  Ayent, Schweiz  "
      ]
     },
     "execution_count": 24,
     "metadata": {},
     "output_type": "execute_result"
    }
   ],
   "source": [
    "global_tweets_df.head()"
   ]
  },
  {
   "cell_type": "code",
   "execution_count": 25,
   "metadata": {},
   "outputs": [
    {
     "data": {
      "text/plain": [
       "(22000, 16)"
      ]
     },
     "execution_count": 25,
     "metadata": {},
     "output_type": "execute_result"
    }
   ],
   "source": [
    "global_tweets_df.shape"
   ]
  },
  {
   "cell_type": "markdown",
   "metadata": {},
   "source": [
    "#### INITIALIZE Clean_Tweets INSTANCE"
   ]
  },
  {
   "cell_type": "code",
   "execution_count": 26,
   "metadata": {},
   "outputs": [
    {
     "name": "stdout",
     "output_type": "stream",
     "text": [
      "Clean_Tweets INSTANCE CREATED\n"
     ]
    }
   ],
   "source": [
    "global_clean_tweets = Clean_Tweets(global_tweets_df)"
   ]
  },
  {
   "cell_type": "markdown",
   "metadata": {},
   "source": [
    "#### DROP DUPLICATES \n",
    "##### BY USING PANDAS df.drop_duplicates() which is called by our global_clean_tweets.drop_duplicate(global_tweets_df) function"
   ]
  },
  {
   "cell_type": "code",
   "execution_count": 27,
   "metadata": {},
   "outputs": [
    {
     "data": {
      "text/plain": [
       "(21997, 16)"
      ]
     },
     "execution_count": 27,
     "metadata": {},
     "output_type": "execute_result"
    }
   ],
   "source": [
    "global_tweets_df = global_clean_tweets.drop_duplicate(global_tweets_df)\n",
    "global_tweets_df.shape\n",
    "# We can see that on the below output we have droped 3 duplicate rows."
   ]
  },
  {
   "cell_type": "markdown",
   "metadata": {},
   "source": [
    "#### REMOVE NON ENGLISH"
   ]
  },
  {
   "cell_type": "code",
   "execution_count": 28,
   "metadata": {},
   "outputs": [
    {
     "data": {
      "text/plain": [
       "(21997, 16)"
      ]
     },
     "execution_count": 28,
     "metadata": {},
     "output_type": "execute_result"
    }
   ],
   "source": [
    "global_tweets_df = global_clean_tweets.remove_non_english_tweets(global_tweets_df)\n",
    "global_tweets_df.shape\n",
    "# We can see no rows were dropped because all the languages represent 'en'"
   ]
  },
  {
   "cell_type": "markdown",
   "metadata": {},
   "source": [
    "#### CHECK FOR NULL/MISSING VALUES"
   ]
  },
  {
   "cell_type": "code",
   "execution_count": 29,
   "metadata": {},
   "outputs": [
    {
     "data": {
      "text/plain": [
       "created_at                0\n",
       "source                    0\n",
       "full_text                 0\n",
       "polarity                  0\n",
       "subjectivity              0\n",
       "sentiment                 0\n",
       "lang                      0\n",
       "favorite_count            0\n",
       "retweet_count             0\n",
       "original_author           0\n",
       "followers_count           0\n",
       "friends_count             0\n",
       "possibly_sensitive    15807\n",
       "hashtags                  0\n",
       "user_mentions             0\n",
       "place                     0\n",
       "dtype: int64"
      ]
     },
     "execution_count": 29,
     "metadata": {},
     "output_type": "execute_result"
    }
   ],
   "source": [
    "global_tweets_df.isna().sum()\n",
    "# We can see that we have 15807 missing values under the column 'possibly_sensitive'"
   ]
  },
  {
   "cell_type": "markdown",
   "metadata": {},
   "source": [
    "##### HANDLE MISSING DATA"
   ]
  },
  {
   "cell_type": "code",
   "execution_count": 30,
   "metadata": {},
   "outputs": [
    {
     "data": {
      "text/plain": [
       "created_at            0\n",
       "source                0\n",
       "full_text             0\n",
       "polarity              0\n",
       "subjectivity          0\n",
       "sentiment             0\n",
       "lang                  0\n",
       "favorite_count        0\n",
       "retweet_count         0\n",
       "original_author       0\n",
       "followers_count       0\n",
       "friends_count         0\n",
       "possibly_sensitive    0\n",
       "hashtags              0\n",
       "user_mentions         0\n",
       "place                 0\n",
       "dtype: int64"
      ]
     },
     "execution_count": 30,
     "metadata": {},
     "output_type": "execute_result"
    }
   ],
   "source": [
    "global_tweets_df['possibly_sensitive'] = global_tweets_df['possibly_sensitive'].fillna(\"not_found\")\n",
    "global_tweets_df.isna().sum()\n",
    "# The missing rows under the column 'possibly_sensitive' have been repaced with \"not_found\""
   ]
  },
  {
   "cell_type": "code",
   "execution_count": 31,
   "metadata": {},
   "outputs": [
    {
     "data": {
      "text/plain": [
       "(9890, 16)"
      ]
     },
     "execution_count": 31,
     "metadata": {},
     "output_type": "execute_result"
    }
   ],
   "source": [
    "global_tweets_df[global_tweets_df['place'] == ''].shape\n",
    "# Eventhough on the above output there were 0 missing data under the column 'place' those missing data's were \n",
    "# an empty string rather than a null value, so we have to replace those value with \"not_known\""
   ]
  },
  {
   "cell_type": "code",
   "execution_count": 32,
   "metadata": {},
   "outputs": [
    {
     "data": {
      "text/plain": [
       "created_at            0\n",
       "source                0\n",
       "full_text             0\n",
       "polarity              0\n",
       "subjectivity          0\n",
       "sentiment             0\n",
       "lang                  0\n",
       "favorite_count        0\n",
       "retweet_count         0\n",
       "original_author       0\n",
       "followers_count       0\n",
       "friends_count         0\n",
       "possibly_sensitive    0\n",
       "hashtags              0\n",
       "user_mentions         0\n",
       "place                 0\n",
       "dtype: int64"
      ]
     },
     "execution_count": 32,
     "metadata": {},
     "output_type": "execute_result"
    }
   ],
   "source": [
    "global_tweets_df['place'] = global_tweets_df['place'].fillna(\"not_known\")\n",
    "global_tweets_df.isna().sum()\n"
   ]
  },
  {
   "cell_type": "markdown",
   "metadata": {},
   "source": [
    "#### REMOVE UNWANTED CHARACTERS"
   ]
  },
  {
   "cell_type": "code",
   "execution_count": 33,
   "metadata": {},
   "outputs": [
    {
     "data": {
      "text/plain": [
       "124    Nunya*\n",
       "125          \n",
       "Name: place, dtype: object"
      ]
     },
     "execution_count": 33,
     "metadata": {},
     "output_type": "execute_result"
    }
   ],
   "source": [
    "global_tweets_df['place'][124:126]"
   ]
  },
  {
   "cell_type": "code",
   "execution_count": 34,
   "metadata": {},
   "outputs": [
    {
     "data": {
      "text/plain": [
       "created_at            0\n",
       "source                0\n",
       "full_text             0\n",
       "polarity              0\n",
       "subjectivity          0\n",
       "sentiment             0\n",
       "lang                  0\n",
       "favorite_count        0\n",
       "retweet_count         0\n",
       "original_author       0\n",
       "followers_count       0\n",
       "friends_count         0\n",
       "possibly_sensitive    0\n",
       "hashtags              0\n",
       "user_mentions         0\n",
       "place                 0\n",
       "dtype: int64"
      ]
     },
     "execution_count": 34,
     "metadata": {},
     "output_type": "execute_result"
    }
   ],
   "source": [
    "global_tweets_df = global_clean_tweets.remove_place_characters(global_tweets_df)\n",
    "global_tweets_df.isna().sum()"
   ]
  },
  {
   "cell_type": "code",
   "execution_count": 35,
   "metadata": {},
   "outputs": [
    {
     "data": {
      "text/plain": [
       "124    Nunya\n",
       "125         \n",
       "Name: place, dtype: object"
      ]
     },
     "execution_count": 35,
     "metadata": {},
     "output_type": "execute_result"
    }
   ],
   "source": [
    "global_tweets_df['place'][124:126]\n",
    "# We can see that invalid characters under the column 'place' are replaced and cleaned "
   ]
  },
  {
   "cell_type": "markdown",
   "metadata": {},
   "source": [
    "#### CONVERT STRING TO DATETIME"
   ]
  },
  {
   "cell_type": "code",
   "execution_count": 36,
   "metadata": {},
   "outputs": [
    {
     "name": "stdout",
     "output_type": "stream",
     "text": [
      "<class 'pandas.core.frame.DataFrame'>\n",
      "Int64Index: 21997 entries, 0 to 21999\n",
      "Data columns (total 16 columns):\n",
      " #   Column              Non-Null Count  Dtype  \n",
      "---  ------              --------------  -----  \n",
      " 0   created_at          21997 non-null  object \n",
      " 1   source              21997 non-null  object \n",
      " 2   full_text           21997 non-null  object \n",
      " 3   polarity            21997 non-null  float64\n",
      " 4   subjectivity        21997 non-null  float64\n",
      " 5   sentiment           21997 non-null  object \n",
      " 6   lang                21997 non-null  object \n",
      " 7   favorite_count      21997 non-null  int64  \n",
      " 8   retweet_count       21997 non-null  int64  \n",
      " 9   original_author     21997 non-null  object \n",
      " 10  followers_count     21997 non-null  int64  \n",
      " 11  friends_count       21997 non-null  int64  \n",
      " 12  possibly_sensitive  21997 non-null  object \n",
      " 13  hashtags            21997 non-null  object \n",
      " 14  user_mentions       21997 non-null  object \n",
      " 15  place               21997 non-null  object \n",
      "dtypes: float64(2), int64(4), object(10)\n",
      "memory usage: 2.9+ MB\n"
     ]
    }
   ],
   "source": [
    "global_tweets_df.info()\n",
    "# We can see that below the column 'created_at' has the type of object/string, we will change this to\n",
    "# datetime using pd.to_datetime(df) which is called by global_clean_tweets.convert_to_datetime(global_tweets_df) "
   ]
  },
  {
   "cell_type": "code",
   "execution_count": 37,
   "metadata": {},
   "outputs": [
    {
     "name": "stdout",
     "output_type": "stream",
     "text": [
      "<class 'pandas.core.frame.DataFrame'>\n",
      "Int64Index: 21997 entries, 0 to 21999\n",
      "Data columns (total 16 columns):\n",
      " #   Column              Non-Null Count  Dtype              \n",
      "---  ------              --------------  -----              \n",
      " 0   created_at          21997 non-null  datetime64[ns, UTC]\n",
      " 1   source              21997 non-null  object             \n",
      " 2   full_text           21997 non-null  object             \n",
      " 3   polarity            21997 non-null  float64            \n",
      " 4   subjectivity        21997 non-null  float64            \n",
      " 5   sentiment           21997 non-null  object             \n",
      " 6   lang                21997 non-null  object             \n",
      " 7   favorite_count      21997 non-null  int64              \n",
      " 8   retweet_count       21997 non-null  int64              \n",
      " 9   original_author     21997 non-null  object             \n",
      " 10  followers_count     21997 non-null  int64              \n",
      " 11  friends_count       21997 non-null  int64              \n",
      " 12  possibly_sensitive  21997 non-null  object             \n",
      " 13  hashtags            21997 non-null  object             \n",
      " 14  user_mentions       21997 non-null  object             \n",
      " 15  place               21997 non-null  object             \n",
      "dtypes: datetime64[ns, UTC](1), float64(2), int64(4), object(9)\n",
      "memory usage: 2.9+ MB\n"
     ]
    }
   ],
   "source": [
    "global_tweets_df = global_clean_tweets.convert_to_datetime(global_tweets_df)\n",
    "global_tweets_df.info()\n",
    "# Now we can see that it is converted to datetime64"
   ]
  },
  {
   "cell_type": "code",
   "execution_count": null,
   "metadata": {},
   "outputs": [],
   "source": []
  }
 ],
 "metadata": {
  "interpreter": {
   "hash": "23594bc56d5e7779377c96f362b7b8ee0ca743d7d4ba50996de9368b2850dabe"
  },
  "kernelspec": {
   "display_name": "Python 3.9.7 ('base')",
   "language": "python",
   "name": "python3"
  },
  "language_info": {
   "codemirror_mode": {
    "name": "ipython",
    "version": 3
   },
   "file_extension": ".py",
   "mimetype": "text/x-python",
   "name": "python",
   "nbconvert_exporter": "python",
   "pygments_lexer": "ipython3",
   "version": "3.9.7"
  },
  "orig_nbformat": 4
 },
 "nbformat": 4,
 "nbformat_minor": 2
}

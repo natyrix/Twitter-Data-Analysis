{
 "cells": [
  {
   "cell_type": "markdown",
   "metadata": {},
   "source": [
    "## IMPORT MODULES"
   ]
  },
  {
   "cell_type": "code",
   "execution_count": 24,
   "metadata": {},
   "outputs": [],
   "source": [
    "import pandas as pd\n",
    "import sys\n",
    "import os\n",
    "import re\n",
    "\n",
    "sys.path.append(os.path.abspath(os.path.join('..')))\n",
    "from extract_dataframe import TweetDfExtractor\n",
    "from extract_dataframe import read_json\n",
    "from clean_tweets_dataframe import Clean_Tweets\n",
    "_, global_tweet_list = read_json(\"../data/global_twitter_data.json\")"
   ]
  },
  {
   "cell_type": "markdown",
   "metadata": {},
   "source": [
    "## INITIALIZE TweetDfExtractor INSTANCE AND GET DATA"
   ]
  },
  {
   "cell_type": "code",
   "execution_count": 25,
   "metadata": {},
   "outputs": [],
   "source": [
    "global_tweet_df_extractor = TweetDfExtractor(global_tweet_list)\n",
    "global_tweets_df = global_tweet_df_extractor.get_tweet_df()"
   ]
  },
  {
   "cell_type": "markdown",
   "metadata": {},
   "source": [
    "## DATA PREPARATION"
   ]
  },
  {
   "cell_type": "markdown",
   "metadata": {},
   "source": [
    "#### CHECK IF ALL DESIRED COLUMNS ARE EXTRACTED "
   ]
  },
  {
   "cell_type": "code",
   "execution_count": 26,
   "metadata": {},
   "outputs": [
    {
     "data": {
      "text/html": [
       "<div>\n",
       "<style scoped>\n",
       "    .dataframe tbody tr th:only-of-type {\n",
       "        vertical-align: middle;\n",
       "    }\n",
       "\n",
       "    .dataframe tbody tr th {\n",
       "        vertical-align: top;\n",
       "    }\n",
       "\n",
       "    .dataframe thead th {\n",
       "        text-align: right;\n",
       "    }\n",
       "</style>\n",
       "<table border=\"1\" class=\"dataframe\">\n",
       "  <thead>\n",
       "    <tr style=\"text-align: right;\">\n",
       "      <th></th>\n",
       "      <th>created_at</th>\n",
       "      <th>source</th>\n",
       "      <th>full_text</th>\n",
       "      <th>polarity</th>\n",
       "      <th>subjectivity</th>\n",
       "      <th>sentiment</th>\n",
       "      <th>lang</th>\n",
       "      <th>favorite_count</th>\n",
       "      <th>retweet_count</th>\n",
       "      <th>original_author</th>\n",
       "      <th>followers_count</th>\n",
       "      <th>friends_count</th>\n",
       "      <th>possibly_sensitive</th>\n",
       "      <th>hashtags</th>\n",
       "      <th>user_mentions</th>\n",
       "      <th>place</th>\n",
       "    </tr>\n",
       "  </thead>\n",
       "  <tbody>\n",
       "    <tr>\n",
       "      <th>0</th>\n",
       "      <td>Sun Aug 07 22:31:20 +0000 2022</td>\n",
       "      <td>&lt;a href=\"http://twitter.com/download/android\" ...</td>\n",
       "      <td>RT @i_ameztoy Extra random image I Lets focus ...</td>\n",
       "      <td>-1.250000e-01</td>\n",
       "      <td>0.190625</td>\n",
       "      <td>negative</td>\n",
       "      <td>en</td>\n",
       "      <td>15760</td>\n",
       "      <td>2</td>\n",
       "      <td>i_ameztoy</td>\n",
       "      <td>20497</td>\n",
       "      <td>2621</td>\n",
       "      <td>None</td>\n",
       "      <td>City++++</td>\n",
       "      <td>i_ameztoy++++</td>\n",
       "      <td></td>\n",
       "    </tr>\n",
       "    <tr>\n",
       "      <th>1</th>\n",
       "      <td>Sun Aug 07 22:31:16 +0000 2022</td>\n",
       "      <td>&lt;a href=\"http://twitter.com/download/android\" ...</td>\n",
       "      <td>RT @IndoPac_Info #Chinas media explains the mi...</td>\n",
       "      <td>-1.000000e-01</td>\n",
       "      <td>0.100000</td>\n",
       "      <td>negative</td>\n",
       "      <td>en</td>\n",
       "      <td>6967</td>\n",
       "      <td>201</td>\n",
       "      <td>ZIisq</td>\n",
       "      <td>65</td>\n",
       "      <td>272</td>\n",
       "      <td>None</td>\n",
       "      <td>China++++Taiwan++++</td>\n",
       "      <td>IndoPac_Info++++</td>\n",
       "      <td></td>\n",
       "    </tr>\n",
       "    <tr>\n",
       "      <th>2</th>\n",
       "      <td>Sun Aug 07 22:31:07 +0000 2022</td>\n",
       "      <td>&lt;a href=\"http://twitter.com/download/android\" ...</td>\n",
       "      <td>China even cut off communication they dont anw...</td>\n",
       "      <td>0.000000e+00</td>\n",
       "      <td>0.000000</td>\n",
       "      <td>neutral</td>\n",
       "      <td>en</td>\n",
       "      <td>2166</td>\n",
       "      <td>0</td>\n",
       "      <td>Fin21Free</td>\n",
       "      <td>85</td>\n",
       "      <td>392</td>\n",
       "      <td>None</td>\n",
       "      <td>XiJinping++++</td>\n",
       "      <td>ZelenskyyUa++++</td>\n",
       "      <td>Netherlands</td>\n",
       "    </tr>\n",
       "    <tr>\n",
       "      <th>3</th>\n",
       "      <td>Sun Aug 07 22:31:06 +0000 2022</td>\n",
       "      <td>&lt;a href=\"http://twitter.com/download/android\" ...</td>\n",
       "      <td>Putin to #XiJinping I told you my friend Taiwa...</td>\n",
       "      <td>1.000000e-01</td>\n",
       "      <td>0.350000</td>\n",
       "      <td>positive</td>\n",
       "      <td>en</td>\n",
       "      <td>2166</td>\n",
       "      <td>0</td>\n",
       "      <td>Fin21Free</td>\n",
       "      <td>85</td>\n",
       "      <td>392</td>\n",
       "      <td>None</td>\n",
       "      <td>XiJinping++++</td>\n",
       "      <td></td>\n",
       "      <td>Netherlands</td>\n",
       "    </tr>\n",
       "    <tr>\n",
       "      <th>4</th>\n",
       "      <td>Sun Aug 07 22:31:04 +0000 2022</td>\n",
       "      <td>&lt;a href=\"http://twitter.com/download/iphone\" r...</td>\n",
       "      <td>RT @ChinaUncensored I’m sorry I thought Taiwan...</td>\n",
       "      <td>-6.938894e-18</td>\n",
       "      <td>0.556250</td>\n",
       "      <td>negative</td>\n",
       "      <td>en</td>\n",
       "      <td>17247</td>\n",
       "      <td>381</td>\n",
       "      <td>VizziniDolores</td>\n",
       "      <td>910</td>\n",
       "      <td>2608</td>\n",
       "      <td>None</td>\n",
       "      <td></td>\n",
       "      <td>ChinaUncensored++++</td>\n",
       "      <td>Ayent, Schweiz</td>\n",
       "    </tr>\n",
       "  </tbody>\n",
       "</table>\n",
       "</div>"
      ],
      "text/plain": [
       "                       created_at  \\\n",
       "0  Sun Aug 07 22:31:20 +0000 2022   \n",
       "1  Sun Aug 07 22:31:16 +0000 2022   \n",
       "2  Sun Aug 07 22:31:07 +0000 2022   \n",
       "3  Sun Aug 07 22:31:06 +0000 2022   \n",
       "4  Sun Aug 07 22:31:04 +0000 2022   \n",
       "\n",
       "                                              source  \\\n",
       "0  <a href=\"http://twitter.com/download/android\" ...   \n",
       "1  <a href=\"http://twitter.com/download/android\" ...   \n",
       "2  <a href=\"http://twitter.com/download/android\" ...   \n",
       "3  <a href=\"http://twitter.com/download/android\" ...   \n",
       "4  <a href=\"http://twitter.com/download/iphone\" r...   \n",
       "\n",
       "                                           full_text      polarity  \\\n",
       "0  RT @i_ameztoy Extra random image I Lets focus ... -1.250000e-01   \n",
       "1  RT @IndoPac_Info #Chinas media explains the mi... -1.000000e-01   \n",
       "2  China even cut off communication they dont anw...  0.000000e+00   \n",
       "3  Putin to #XiJinping I told you my friend Taiwa...  1.000000e-01   \n",
       "4  RT @ChinaUncensored I’m sorry I thought Taiwan... -6.938894e-18   \n",
       "\n",
       "   subjectivity sentiment lang  favorite_count  retweet_count original_author  \\\n",
       "0      0.190625  negative   en           15760              2       i_ameztoy   \n",
       "1      0.100000  negative   en            6967            201           ZIisq   \n",
       "2      0.000000   neutral   en            2166              0       Fin21Free   \n",
       "3      0.350000  positive   en            2166              0       Fin21Free   \n",
       "4      0.556250  negative   en           17247            381  VizziniDolores   \n",
       "\n",
       "   followers_count  friends_count possibly_sensitive             hashtags  \\\n",
       "0            20497           2621               None             City++++   \n",
       "1               65            272               None  China++++Taiwan++++   \n",
       "2               85            392               None        XiJinping++++   \n",
       "3               85            392               None        XiJinping++++   \n",
       "4              910           2608               None                        \n",
       "\n",
       "         user_mentions           place  \n",
       "0        i_ameztoy++++                  \n",
       "1     IndoPac_Info++++                  \n",
       "2      ZelenskyyUa++++     Netherlands  \n",
       "3                          Netherlands  \n",
       "4  ChinaUncensored++++  Ayent, Schweiz  "
      ]
     },
     "execution_count": 26,
     "metadata": {},
     "output_type": "execute_result"
    }
   ],
   "source": [
    "global_tweets_df.head()"
   ]
  },
  {
   "cell_type": "code",
   "execution_count": 27,
   "metadata": {},
   "outputs": [
    {
     "data": {
      "text/plain": [
       "(22000, 16)"
      ]
     },
     "execution_count": 27,
     "metadata": {},
     "output_type": "execute_result"
    }
   ],
   "source": [
    "global_tweets_df.shape"
   ]
  },
  {
   "cell_type": "markdown",
   "metadata": {},
   "source": [
    "#### INITIALIZE Clean_Tweets INSTANCE"
   ]
  },
  {
   "cell_type": "code",
   "execution_count": 28,
   "metadata": {},
   "outputs": [
    {
     "name": "stdout",
     "output_type": "stream",
     "text": [
      "Clean_Tweets INSTANCE CREATED\n"
     ]
    }
   ],
   "source": [
    "global_clean_tweets = Clean_Tweets(global_tweets_df)"
   ]
  },
  {
   "cell_type": "markdown",
   "metadata": {},
   "source": [
    "#### DROP DUPLICATES \n",
    "##### BY USING PANDAS df.drop_duplicates() which is called by our global_clean_tweets.drop_duplicate(global_tweets_df) function"
   ]
  },
  {
   "cell_type": "code",
   "execution_count": 29,
   "metadata": {},
   "outputs": [
    {
     "data": {
      "text/plain": [
       "(21997, 16)"
      ]
     },
     "execution_count": 29,
     "metadata": {},
     "output_type": "execute_result"
    }
   ],
   "source": [
    "global_tweets_df = global_clean_tweets.drop_duplicate(global_tweets_df)\n",
    "global_tweets_df.shape\n",
    "# We can see that on the below output we have droped 3 duplicate rows."
   ]
  },
  {
   "cell_type": "markdown",
   "metadata": {},
   "source": [
    "#### REMOVE NON ENGLISH"
   ]
  },
  {
   "cell_type": "code",
   "execution_count": 30,
   "metadata": {},
   "outputs": [
    {
     "data": {
      "text/plain": [
       "(21997, 16)"
      ]
     },
     "execution_count": 30,
     "metadata": {},
     "output_type": "execute_result"
    }
   ],
   "source": [
    "global_tweets_df = global_clean_tweets.remove_non_english_tweets(global_tweets_df)\n",
    "global_tweets_df.shape\n",
    "# We can see no rows were dropped because all the languages represent 'en'"
   ]
  },
  {
   "cell_type": "markdown",
   "metadata": {},
   "source": [
    "#### CHECK FOR NULL/MISSING VALUES"
   ]
  },
  {
   "cell_type": "code",
   "execution_count": 31,
   "metadata": {},
   "outputs": [
    {
     "data": {
      "text/plain": [
       "created_at                0\n",
       "source                    0\n",
       "full_text                 0\n",
       "polarity                  0\n",
       "subjectivity              0\n",
       "sentiment                 0\n",
       "lang                      0\n",
       "favorite_count            0\n",
       "retweet_count             0\n",
       "original_author           0\n",
       "followers_count           0\n",
       "friends_count             0\n",
       "possibly_sensitive    15807\n",
       "hashtags                  0\n",
       "user_mentions             0\n",
       "place                     0\n",
       "dtype: int64"
      ]
     },
     "execution_count": 31,
     "metadata": {},
     "output_type": "execute_result"
    }
   ],
   "source": [
    "global_tweets_df.isna().sum()\n",
    "# We can see that we have 15807 missing values under the column 'possibly_sensitive'"
   ]
  },
  {
   "cell_type": "markdown",
   "metadata": {},
   "source": [
    "##### HANDLE MISSING DATA"
   ]
  },
  {
   "cell_type": "code",
   "execution_count": 32,
   "metadata": {},
   "outputs": [
    {
     "data": {
      "text/plain": [
       "created_at            0\n",
       "source                0\n",
       "full_text             0\n",
       "polarity              0\n",
       "subjectivity          0\n",
       "sentiment             0\n",
       "lang                  0\n",
       "favorite_count        0\n",
       "retweet_count         0\n",
       "original_author       0\n",
       "followers_count       0\n",
       "friends_count         0\n",
       "possibly_sensitive    0\n",
       "hashtags              0\n",
       "user_mentions         0\n",
       "place                 0\n",
       "dtype: int64"
      ]
     },
     "execution_count": 32,
     "metadata": {},
     "output_type": "execute_result"
    }
   ],
   "source": [
    "global_tweets_df['possibly_sensitive'] = global_tweets_df['possibly_sensitive'].fillna(\"not_found\")\n",
    "global_tweets_df.isna().sum()\n",
    "# The missing rows under the column 'possibly_sensitive' have been repaced with \"not_found\""
   ]
  },
  {
   "cell_type": "code",
   "execution_count": 33,
   "metadata": {},
   "outputs": [
    {
     "data": {
      "text/plain": [
       "(9890, 16)"
      ]
     },
     "execution_count": 33,
     "metadata": {},
     "output_type": "execute_result"
    }
   ],
   "source": [
    "global_tweets_df[global_tweets_df['place'] == ''].shape\n",
    "# Eventhough on the above output there were 0 missing data under the column 'place' those missing data's were \n",
    "# an empty string rather than a null value, so we have to replace those value with \"not_known\""
   ]
  },
  {
   "cell_type": "code",
   "execution_count": 34,
   "metadata": {},
   "outputs": [
    {
     "data": {
      "text/plain": [
       "created_at            0\n",
       "source                0\n",
       "full_text             0\n",
       "polarity              0\n",
       "subjectivity          0\n",
       "sentiment             0\n",
       "lang                  0\n",
       "favorite_count        0\n",
       "retweet_count         0\n",
       "original_author       0\n",
       "followers_count       0\n",
       "friends_count         0\n",
       "possibly_sensitive    0\n",
       "hashtags              0\n",
       "user_mentions         0\n",
       "place                 0\n",
       "dtype: int64"
      ]
     },
     "execution_count": 34,
     "metadata": {},
     "output_type": "execute_result"
    }
   ],
   "source": [
    "global_tweets_df['place'] = global_tweets_df['place'].fillna(\"not_known\")\n",
    "global_tweets_df.isna().sum()\n"
   ]
  },
  {
   "cell_type": "markdown",
   "metadata": {},
   "source": [
    "#### REMOVE UNWANTED CHARACTERS"
   ]
  },
  {
   "cell_type": "code",
   "execution_count": 35,
   "metadata": {},
   "outputs": [
    {
     "data": {
      "text/plain": [
       "124    Nunya*\n",
       "125          \n",
       "Name: place, dtype: object"
      ]
     },
     "execution_count": 35,
     "metadata": {},
     "output_type": "execute_result"
    }
   ],
   "source": [
    "global_tweets_df['place'][124:126]"
   ]
  },
  {
   "cell_type": "code",
   "execution_count": 36,
   "metadata": {},
   "outputs": [
    {
     "data": {
      "text/plain": [
       "created_at            0\n",
       "source                0\n",
       "full_text             0\n",
       "polarity              0\n",
       "subjectivity          0\n",
       "sentiment             0\n",
       "lang                  0\n",
       "favorite_count        0\n",
       "retweet_count         0\n",
       "original_author       0\n",
       "followers_count       0\n",
       "friends_count         0\n",
       "possibly_sensitive    0\n",
       "hashtags              0\n",
       "user_mentions         0\n",
       "place                 0\n",
       "dtype: int64"
      ]
     },
     "execution_count": 36,
     "metadata": {},
     "output_type": "execute_result"
    }
   ],
   "source": [
    "global_tweets_df = global_clean_tweets.remove_place_characters(global_tweets_df)\n",
    "global_tweets_df.isna().sum()"
   ]
  },
  {
   "cell_type": "code",
   "execution_count": 37,
   "metadata": {},
   "outputs": [
    {
     "data": {
      "text/plain": [
       "124    Nunya\n",
       "125         \n",
       "Name: place, dtype: object"
      ]
     },
     "execution_count": 37,
     "metadata": {},
     "output_type": "execute_result"
    }
   ],
   "source": [
    "global_tweets_df['place'][124:126]\n",
    "# We can see that invalid characters under the column 'place' are replaced and cleaned "
   ]
  },
  {
   "cell_type": "markdown",
   "metadata": {},
   "source": [
    "#### CONVERT STRING TO DATETIME"
   ]
  },
  {
   "cell_type": "code",
   "execution_count": 38,
   "metadata": {},
   "outputs": [
    {
     "name": "stdout",
     "output_type": "stream",
     "text": [
      "<class 'pandas.core.frame.DataFrame'>\n",
      "Int64Index: 21997 entries, 0 to 21999\n",
      "Data columns (total 16 columns):\n",
      " #   Column              Non-Null Count  Dtype  \n",
      "---  ------              --------------  -----  \n",
      " 0   created_at          21997 non-null  object \n",
      " 1   source              21997 non-null  object \n",
      " 2   full_text           21997 non-null  object \n",
      " 3   polarity            21997 non-null  float64\n",
      " 4   subjectivity        21997 non-null  float64\n",
      " 5   sentiment           21997 non-null  object \n",
      " 6   lang                21997 non-null  object \n",
      " 7   favorite_count      21997 non-null  int64  \n",
      " 8   retweet_count       21997 non-null  int64  \n",
      " 9   original_author     21997 non-null  object \n",
      " 10  followers_count     21997 non-null  int64  \n",
      " 11  friends_count       21997 non-null  int64  \n",
      " 12  possibly_sensitive  21997 non-null  object \n",
      " 13  hashtags            21997 non-null  object \n",
      " 14  user_mentions       21997 non-null  object \n",
      " 15  place               21997 non-null  object \n",
      "dtypes: float64(2), int64(4), object(10)\n",
      "memory usage: 2.9+ MB\n"
     ]
    }
   ],
   "source": [
    "global_tweets_df.info()\n",
    "# We can see that below the column 'created_at' has the type of object/string, we will change this to\n",
    "# datetime using pd.to_datetime(df) which is called by global_clean_tweets.convert_to_datetime(global_tweets_df) "
   ]
  },
  {
   "cell_type": "code",
   "execution_count": 39,
   "metadata": {},
   "outputs": [
    {
     "name": "stdout",
     "output_type": "stream",
     "text": [
      "<class 'pandas.core.frame.DataFrame'>\n",
      "Int64Index: 21997 entries, 0 to 21999\n",
      "Data columns (total 16 columns):\n",
      " #   Column              Non-Null Count  Dtype              \n",
      "---  ------              --------------  -----              \n",
      " 0   created_at          21997 non-null  datetime64[ns, UTC]\n",
      " 1   source              21997 non-null  object             \n",
      " 2   full_text           21997 non-null  object             \n",
      " 3   polarity            21997 non-null  float64            \n",
      " 4   subjectivity        21997 non-null  float64            \n",
      " 5   sentiment           21997 non-null  object             \n",
      " 6   lang                21997 non-null  object             \n",
      " 7   favorite_count      21997 non-null  int64              \n",
      " 8   retweet_count       21997 non-null  int64              \n",
      " 9   original_author     21997 non-null  object             \n",
      " 10  followers_count     21997 non-null  int64              \n",
      " 11  friends_count       21997 non-null  int64              \n",
      " 12  possibly_sensitive  21997 non-null  object             \n",
      " 13  hashtags            21997 non-null  object             \n",
      " 14  user_mentions       21997 non-null  object             \n",
      " 15  place               21997 non-null  object             \n",
      "dtypes: datetime64[ns, UTC](1), float64(2), int64(4), object(9)\n",
      "memory usage: 2.9+ MB\n"
     ]
    }
   ],
   "source": [
    "global_tweets_df = global_clean_tweets.convert_to_datetime(global_tweets_df)\n",
    "global_tweets_df.info()\n",
    "# Now we can see that it is converted to datetime64"
   ]
  },
  {
   "cell_type": "markdown",
   "metadata": {},
   "source": [
    "#### CLEAN SOURCE DATA"
   ]
  },
  {
   "cell_type": "code",
   "execution_count": 40,
   "metadata": {},
   "outputs": [
    {
     "data": {
      "text/plain": [
       "0    <a href=\"http://twitter.com/download/android\" ...\n",
       "1    <a href=\"http://twitter.com/download/android\" ...\n",
       "2    <a href=\"http://twitter.com/download/android\" ...\n",
       "3    <a href=\"http://twitter.com/download/android\" ...\n",
       "4    <a href=\"http://twitter.com/download/iphone\" r...\n",
       "Name: source, dtype: object"
      ]
     },
     "execution_count": 40,
     "metadata": {},
     "output_type": "execute_result"
    }
   ],
   "source": [
    "global_tweets_df['source'][:5]\n",
    "# We can see that understanding device type from source column is not easily readable so we will extract \n",
    "# source using global_clean_tweets.extract_twitter_source(global_tweets_df)"
   ]
  },
  {
   "cell_type": "code",
   "execution_count": 41,
   "metadata": {},
   "outputs": [
    {
     "data": {
      "text/plain": [
       "0    Twitter for Android\n",
       "1    Twitter for Android\n",
       "2    Twitter for Android\n",
       "3    Twitter for Android\n",
       "4     Twitter for iPhone\n",
       "Name: source, dtype: object"
      ]
     },
     "execution_count": 41,
     "metadata": {},
     "output_type": "execute_result"
    }
   ],
   "source": [
    "global_tweets_df[\"source\"] = global_tweets_df[\"source\"].apply(global_clean_tweets.extract_twitter_source)\n",
    "global_tweets_df['source'][:5]"
   ]
  },
  {
   "cell_type": "markdown",
   "metadata": {},
   "source": [
    "#### SAVE THE PRE PROCESSED DATA"
   ]
  },
  {
   "cell_type": "code",
   "execution_count": 42,
   "metadata": {},
   "outputs": [],
   "source": [
    "global_tweets_df.to_csv(\"../data/processed_global_data_tweets.csv\", index=False)"
   ]
  },
  {
   "cell_type": "markdown",
   "metadata": {},
   "source": [
    "## DATA EXPLORATION AND VISUALIZATIONS"
   ]
  },
  {
   "cell_type": "markdown",
   "metadata": {},
   "source": [
    "### BASIC INFORMATION"
   ]
  },
  {
   "cell_type": "code",
   "execution_count": 47,
   "metadata": {},
   "outputs": [
    {
     "data": {
      "text/html": [
       "<div>\n",
       "<style scoped>\n",
       "    .dataframe tbody tr th:only-of-type {\n",
       "        vertical-align: middle;\n",
       "    }\n",
       "\n",
       "    .dataframe tbody tr th {\n",
       "        vertical-align: top;\n",
       "    }\n",
       "\n",
       "    .dataframe thead th {\n",
       "        text-align: right;\n",
       "    }\n",
       "</style>\n",
       "<table border=\"1\" class=\"dataframe\">\n",
       "  <thead>\n",
       "    <tr style=\"text-align: right;\">\n",
       "      <th></th>\n",
       "      <th>created_at</th>\n",
       "      <th>source</th>\n",
       "      <th>full_text</th>\n",
       "      <th>polarity</th>\n",
       "      <th>subjectivity</th>\n",
       "      <th>sentiment</th>\n",
       "      <th>lang</th>\n",
       "      <th>favorite_count</th>\n",
       "      <th>retweet_count</th>\n",
       "      <th>original_author</th>\n",
       "      <th>followers_count</th>\n",
       "      <th>friends_count</th>\n",
       "      <th>possibly_sensitive</th>\n",
       "      <th>hashtags</th>\n",
       "      <th>user_mentions</th>\n",
       "      <th>place</th>\n",
       "    </tr>\n",
       "  </thead>\n",
       "  <tbody>\n",
       "    <tr>\n",
       "      <th>0</th>\n",
       "      <td>2022-08-07 22:31:20+00:00</td>\n",
       "      <td>Twitter for Android</td>\n",
       "      <td>RT @i_ameztoy Extra random image I Lets focus ...</td>\n",
       "      <td>-1.250000e-01</td>\n",
       "      <td>0.190625</td>\n",
       "      <td>negative</td>\n",
       "      <td>en</td>\n",
       "      <td>15760</td>\n",
       "      <td>2</td>\n",
       "      <td>i_ameztoy</td>\n",
       "      <td>20497</td>\n",
       "      <td>2621</td>\n",
       "      <td>not_found</td>\n",
       "      <td>City++++</td>\n",
       "      <td>i_ameztoy++++</td>\n",
       "      <td></td>\n",
       "    </tr>\n",
       "    <tr>\n",
       "      <th>1</th>\n",
       "      <td>2022-08-07 22:31:16+00:00</td>\n",
       "      <td>Twitter for Android</td>\n",
       "      <td>RT @IndoPac_Info #Chinas media explains the mi...</td>\n",
       "      <td>-1.000000e-01</td>\n",
       "      <td>0.100000</td>\n",
       "      <td>negative</td>\n",
       "      <td>en</td>\n",
       "      <td>6967</td>\n",
       "      <td>201</td>\n",
       "      <td>ZIisq</td>\n",
       "      <td>65</td>\n",
       "      <td>272</td>\n",
       "      <td>not_found</td>\n",
       "      <td>China++++Taiwan++++</td>\n",
       "      <td>IndoPac_Info++++</td>\n",
       "      <td></td>\n",
       "    </tr>\n",
       "    <tr>\n",
       "      <th>2</th>\n",
       "      <td>2022-08-07 22:31:07+00:00</td>\n",
       "      <td>Twitter for Android</td>\n",
       "      <td>China even cut off communication they dont anw...</td>\n",
       "      <td>0.000000e+00</td>\n",
       "      <td>0.000000</td>\n",
       "      <td>neutral</td>\n",
       "      <td>en</td>\n",
       "      <td>2166</td>\n",
       "      <td>0</td>\n",
       "      <td>Fin21Free</td>\n",
       "      <td>85</td>\n",
       "      <td>392</td>\n",
       "      <td>not_found</td>\n",
       "      <td>XiJinping++++</td>\n",
       "      <td>ZelenskyyUa++++</td>\n",
       "      <td>Netherlands</td>\n",
       "    </tr>\n",
       "    <tr>\n",
       "      <th>3</th>\n",
       "      <td>2022-08-07 22:31:06+00:00</td>\n",
       "      <td>Twitter for Android</td>\n",
       "      <td>Putin to #XiJinping I told you my friend Taiwa...</td>\n",
       "      <td>1.000000e-01</td>\n",
       "      <td>0.350000</td>\n",
       "      <td>positive</td>\n",
       "      <td>en</td>\n",
       "      <td>2166</td>\n",
       "      <td>0</td>\n",
       "      <td>Fin21Free</td>\n",
       "      <td>85</td>\n",
       "      <td>392</td>\n",
       "      <td>not_found</td>\n",
       "      <td>XiJinping++++</td>\n",
       "      <td></td>\n",
       "      <td>Netherlands</td>\n",
       "    </tr>\n",
       "    <tr>\n",
       "      <th>4</th>\n",
       "      <td>2022-08-07 22:31:04+00:00</td>\n",
       "      <td>Twitter for iPhone</td>\n",
       "      <td>RT @ChinaUncensored I’m sorry I thought Taiwan...</td>\n",
       "      <td>-6.938894e-18</td>\n",
       "      <td>0.556250</td>\n",
       "      <td>negative</td>\n",
       "      <td>en</td>\n",
       "      <td>17247</td>\n",
       "      <td>381</td>\n",
       "      <td>VizziniDolores</td>\n",
       "      <td>910</td>\n",
       "      <td>2608</td>\n",
       "      <td>not_found</td>\n",
       "      <td></td>\n",
       "      <td>ChinaUncensored++++</td>\n",
       "      <td>Ayent Schweiz</td>\n",
       "    </tr>\n",
       "  </tbody>\n",
       "</table>\n",
       "</div>"
      ],
      "text/plain": [
       "                 created_at               source  \\\n",
       "0 2022-08-07 22:31:20+00:00  Twitter for Android   \n",
       "1 2022-08-07 22:31:16+00:00  Twitter for Android   \n",
       "2 2022-08-07 22:31:07+00:00  Twitter for Android   \n",
       "3 2022-08-07 22:31:06+00:00  Twitter for Android   \n",
       "4 2022-08-07 22:31:04+00:00   Twitter for iPhone   \n",
       "\n",
       "                                           full_text      polarity  \\\n",
       "0  RT @i_ameztoy Extra random image I Lets focus ... -1.250000e-01   \n",
       "1  RT @IndoPac_Info #Chinas media explains the mi... -1.000000e-01   \n",
       "2  China even cut off communication they dont anw...  0.000000e+00   \n",
       "3  Putin to #XiJinping I told you my friend Taiwa...  1.000000e-01   \n",
       "4  RT @ChinaUncensored I’m sorry I thought Taiwan... -6.938894e-18   \n",
       "\n",
       "   subjectivity sentiment lang  favorite_count  retweet_count original_author  \\\n",
       "0      0.190625  negative   en           15760              2       i_ameztoy   \n",
       "1      0.100000  negative   en            6967            201           ZIisq   \n",
       "2      0.000000   neutral   en            2166              0       Fin21Free   \n",
       "3      0.350000  positive   en            2166              0       Fin21Free   \n",
       "4      0.556250  negative   en           17247            381  VizziniDolores   \n",
       "\n",
       "   followers_count  friends_count possibly_sensitive             hashtags  \\\n",
       "0            20497           2621          not_found             City++++   \n",
       "1               65            272          not_found  China++++Taiwan++++   \n",
       "2               85            392          not_found        XiJinping++++   \n",
       "3               85            392          not_found        XiJinping++++   \n",
       "4              910           2608          not_found                        \n",
       "\n",
       "         user_mentions          place  \n",
       "0        i_ameztoy++++                 \n",
       "1     IndoPac_Info++++                 \n",
       "2      ZelenskyyUa++++    Netherlands  \n",
       "3                         Netherlands  \n",
       "4  ChinaUncensored++++  Ayent Schweiz  "
      ]
     },
     "execution_count": 47,
     "metadata": {},
     "output_type": "execute_result"
    }
   ],
   "source": [
    "# c_global_tweets_df = pd.read_csv(\"../data/processed_global_data_tweets.csv\")\n",
    "global_tweets_df.head()"
   ]
  },
  {
   "cell_type": "code",
   "execution_count": 46,
   "metadata": {},
   "outputs": [
    {
     "data": {
      "text/plain": [
       "created_at            0\n",
       "source                0\n",
       "full_text             0\n",
       "polarity              0\n",
       "subjectivity          0\n",
       "sentiment             0\n",
       "lang                  0\n",
       "favorite_count        0\n",
       "retweet_count         0\n",
       "original_author       0\n",
       "followers_count       0\n",
       "friends_count         0\n",
       "possibly_sensitive    0\n",
       "hashtags              0\n",
       "user_mentions         0\n",
       "place                 0\n",
       "dtype: int64"
      ]
     },
     "execution_count": 46,
     "metadata": {},
     "output_type": "execute_result"
    }
   ],
   "source": [
    "global_tweets_df.isna().sum()"
   ]
  },
  {
   "cell_type": "markdown",
   "metadata": {},
   "source": [
    "### ORIGINAL AUTHORS"
   ]
  },
  {
   "cell_type": "code",
   "execution_count": 51,
   "metadata": {},
   "outputs": [
    {
     "data": {
      "text/plain": [
       "TrumpThuan        116\n",
       "CGMeifangZhang     65\n",
       "AarianNewsX        59\n",
       "Lin73324756        48\n",
       "Bin20211001        46\n",
       "                 ... \n",
       "papago5             1\n",
       "pmsxa               1\n",
       "SomethingThar       1\n",
       "omotenashi_cx       1\n",
       "ZeitounRimal        1\n",
       "Name: original_author, Length: 13433, dtype: int64"
      ]
     },
     "execution_count": 51,
     "metadata": {},
     "output_type": "execute_result"
    }
   ],
   "source": [
    "global_tweets_df['original_author'].value_counts()\n",
    "# Authors count"
   ]
  },
  {
   "cell_type": "code",
   "execution_count": 55,
   "metadata": {},
   "outputs": [
    {
     "data": {
      "image/png": "[encoded data removed]",
      "text/plain": [
       "<Figure size 432x288 with 1 Axes>"
      ]
     },
     "metadata": {},
     "output_type": "display_data"
    }
   ],
   "source": [
    "global_tweets_df['original_author'].value_counts().head(15).plot(kind='pie',  title=\"Top 15 Authors\");\n",
    "#Top 15 authors plotted using pie chart\n",
    "#We can see that author \"TrumpThuan\" has 116 tweets making him/her the top author of the collected data."
   ]
  },
  {
   "cell_type": "code",
   "execution_count": 54,
   "metadata": {},
   "outputs": [
    {
     "data": {
      "image/png": "[encoded data removed]",
      "text/plain": [
       "<Figure size 432x288 with 1 Axes>"
      ]
     },
     "metadata": {
      "needs_background": "light"
     },
     "output_type": "display_data"
    }
   ],
   "source": [
    "global_tweets_df['original_author'].value_counts().head(15).plot(kind='bar',  title=\"Top 15 Authors\");\n",
    "#Top 15 authors plotted using bar graph"
   ]
  },
  {
   "cell_type": "markdown",
   "metadata": {},
   "source": [
    "### USER MENTIONS"
   ]
  },
  {
   "cell_type": "code",
   "execution_count": 56,
   "metadata": {},
   "outputs": [
    {
     "data": {
      "text/plain": [
       "0              i_ameztoy++++\n",
       "1           IndoPac_Info++++\n",
       "2            ZelenskyyUa++++\n",
       "3                           \n",
       "4        ChinaUncensored++++\n",
       "                ...         \n",
       "21995       IndoPac_Info++++\n",
       "21996       IndoPac_Info++++\n",
       "21997            Reuters++++\n",
       "21998       IndoPac_Info++++\n",
       "21999       IndoPac_Info++++\n",
       "Name: user_mentions, Length: 21997, dtype: object"
      ]
     },
     "execution_count": 56,
     "metadata": {},
     "output_type": "execute_result"
    }
   ],
   "source": [
    "global_tweets_df['user_mentions']"
   ]
  },
  {
   "cell_type": "code",
   "execution_count": 80,
   "metadata": {},
   "outputs": [
    {
     "data": {
      "text/plain": [
       "0              i_ameztoy++++\n",
       "1           IndoPac_Info++++\n",
       "2            ZelenskyyUa++++\n",
       "4        ChinaUncensored++++\n",
       "5         benedictrogers++++\n",
       "                ...         \n",
       "21995       IndoPac_Info++++\n",
       "21996       IndoPac_Info++++\n",
       "21997            Reuters++++\n",
       "21998       IndoPac_Info++++\n",
       "21999       IndoPac_Info++++\n",
       "Name: user_mentions, Length: 18695, dtype: object"
      ]
     },
     "execution_count": 80,
     "metadata": {},
     "output_type": "execute_result"
    }
   ],
   "source": [
    "global_user_mentions_list_df = global_tweets_df.loc[global_tweets_df[\"user_mentions\"] != \"\"]\n",
    "global_user_mentions_list_df = global_user_mentions_list_df['user_mentions']\n",
    "global_user_mentions_list_df\n",
    "# We take the rows that have values in the column 'user_mentions'\n"
   ]
  },
  {
   "cell_type": "code",
   "execution_count": 83,
   "metadata": {},
   "outputs": [
    {
     "data": {
      "text/html": [
       "<div>\n",
       "<style scoped>\n",
       "    .dataframe tbody tr th:only-of-type {\n",
       "        vertical-align: middle;\n",
       "    }\n",
       "\n",
       "    .dataframe tbody tr th {\n",
       "        vertical-align: top;\n",
       "    }\n",
       "\n",
       "    .dataframe thead th {\n",
       "        text-align: right;\n",
       "    }\n",
       "</style>\n",
       "<table border=\"1\" class=\"dataframe\">\n",
       "  <thead>\n",
       "    <tr style=\"text-align: right;\">\n",
       "      <th></th>\n",
       "      <th>user_mentions</th>\n",
       "    </tr>\n",
       "  </thead>\n",
       "  <tbody>\n",
       "    <tr>\n",
       "      <th>0</th>\n",
       "      <td>benedictrogers</td>\n",
       "    </tr>\n",
       "    <tr>\n",
       "      <th>1</th>\n",
       "      <td>BarkingMaad</td>\n",
       "    </tr>\n",
       "    <tr>\n",
       "      <th>2</th>\n",
       "      <td>EnemyInAState</td>\n",
       "    </tr>\n",
       "    <tr>\n",
       "      <th>3</th>\n",
       "      <td>khalediskef</td>\n",
       "    </tr>\n",
       "    <tr>\n",
       "      <th>4</th>\n",
       "      <td>AlArabiya_Eng</td>\n",
       "    </tr>\n",
       "    <tr>\n",
       "      <th>5</th>\n",
       "      <td>revmahoney</td>\n",
       "    </tr>\n",
       "    <tr>\n",
       "      <th>6</th>\n",
       "      <td>WilliamYang120</td>\n",
       "    </tr>\n",
       "    <tr>\n",
       "      <th>7</th>\n",
       "      <td>serpentza</td>\n",
       "    </tr>\n",
       "    <tr>\n",
       "      <th>8</th>\n",
       "      <td>CGMeifangZhang</td>\n",
       "    </tr>\n",
       "    <tr>\n",
       "      <th>9</th>\n",
       "      <td>ChaoyangShaoxia</td>\n",
       "    </tr>\n",
       "  </tbody>\n",
       "</table>\n",
       "</div>"
      ],
      "text/plain": [
       "     user_mentions\n",
       "0   benedictrogers\n",
       "1      BarkingMaad\n",
       "2    EnemyInAState\n",
       "3      khalediskef\n",
       "4    AlArabiya_Eng\n",
       "5       revmahoney\n",
       "6   WilliamYang120\n",
       "7        serpentza\n",
       "8   CGMeifangZhang\n",
       "9  ChaoyangShaoxia"
      ]
     },
     "execution_count": 83,
     "metadata": {},
     "output_type": "execute_result"
    }
   ],
   "source": [
    "splitted_user_mentions = []\n",
    "for mentions_list in global_user_mentions_list_df[40:60]:\n",
    "    mentions_list = mentions_list.split(\"++++\")\n",
    "    for user_mentions in mentions_list:\n",
    "        if user_mentions != '':\n",
    "            splitted_user_mentions.append(user_mentions)\n",
    "splitted_user_mentions_df = pd.DataFrame(splitted_user_mentions, columns=['user_mentions'])\n",
    "splitted_user_mentions_df.head(10)\n",
    "#create dataframe where each 'user_mention' is splitted and gets a new row"
   ]
  },
  {
   "cell_type": "code",
   "execution_count": 85,
   "metadata": {},
   "outputs": [
    {
     "data": {
      "text/plain": [
       "user_mentions  \n",
       "SpokespersonCHN    3\n",
       "CGMeifangZhang     3\n",
       "StephenMcDonell    1\n",
       "serpentza          1\n",
       "revmahoney         1\n",
       "kuomintang         1\n",
       "khalediskef        1\n",
       "container_news     1\n",
       "benedictrogers     1\n",
       "WilliamYang120     1\n",
       "AlArabiya_Eng      1\n",
       "AnonOpsSE          1\n",
       "PaulJawin          1\n",
       "POTUS              1\n",
       "IndoPac_Info       1\n",
       "EnemyInAState      1\n",
       "ChaoyangShaoxia    1\n",
       "BarkingMaad        1\n",
       "Apple              1\n",
       "timand2037         1\n",
       "dtype: int64"
      ]
     },
     "execution_count": 85,
     "metadata": {},
     "output_type": "execute_result"
    }
   ],
   "source": [
    "splitted_user_mentions_df.value_counts()"
   ]
  },
  {
   "cell_type": "code",
   "execution_count": 87,
   "metadata": {},
   "outputs": [
    {
     "data": {
      "text/plain": [
       "<AxesSubplot:title={'center':'Top 4 user mentions'}, xlabel='user_mentions'>"
      ]
     },
     "execution_count": 87,
     "metadata": {},
     "output_type": "execute_result"
    },
    {
     "data": {
      "image/png": "[encoded data removed]",
      "text/plain": [
       "<Figure size 432x288 with 1 Axes>"
      ]
     },
     "metadata": {
      "needs_background": "light"
     },
     "output_type": "display_data"
    }
   ],
   "source": [
    "splitted_user_mentions_df.value_counts().head(4).plot(kind='bar', title=\"Top 4 user mentions\");"
   ]
  },
  {
   "cell_type": "code",
   "execution_count": 88,
   "metadata": {},
   "outputs": [
    {
     "data": {
      "image/png": "[encoded data removed]",
      "text/plain": [
       "<Figure size 432x288 with 1 Axes>"
      ]
     },
     "metadata": {},
     "output_type": "display_data"
    }
   ],
   "source": [
    "splitted_user_mentions_df.value_counts().head(4).plot(kind='pie', title=\"Top 4 user mentions\");\n"
   ]
  },
  {
   "cell_type": "markdown",
   "metadata": {},
   "source": [
    "### LOCATIONS"
   ]
  },
  {
   "cell_type": "code",
   "execution_count": 95,
   "metadata": {},
   "outputs": [
    {
     "data": {
      "text/plain": [
       "India                     200\n",
       "United States             166\n",
       "Hong Kong                 153\n",
       "Vit Nam                   118\n",
       "Taiwan                     99\n",
       "                         ... \n",
       "Makassar Indonesia          1\n",
       "xx                          1\n",
       "Lephalale South Africa      1\n",
       "Occopied Pakistan           1\n",
       "Gelendzhik                  1\n",
       "Name: place, Length: 3919, dtype: int64"
      ]
     },
     "execution_count": 95,
     "metadata": {},
     "output_type": "execute_result"
    }
   ],
   "source": [
    "place_global_tweets_df = global_tweets_df[global_tweets_df['place']!='']\n",
    "place_global_tweets_df = place_global_tweets_df[place_global_tweets_df['place']!=' ']\n",
    "place_global_tweets_df['place'].value_counts()\n",
    "#We can see that majority of users in this dataset are from India, US, Hong Kong, and Vit Nam"
   ]
  },
  {
   "cell_type": "code",
   "execution_count": 98,
   "metadata": {},
   "outputs": [
    {
     "data": {
      "image/png": "[encoded data removed]",
      "text/plain": [
       "<Figure size 432x288 with 1 Axes>"
      ]
     },
     "metadata": {
      "needs_background": "light"
     },
     "output_type": "display_data"
    }
   ],
   "source": [
    "place_global_tweets_df['place'].value_counts().head(6).plot(kind='bar', title=\"Top 6 user locations\");\n",
    "# Top 6 user locations"
   ]
  },
  {
   "cell_type": "code",
   "execution_count": 99,
   "metadata": {},
   "outputs": [
    {
     "data": {
      "image/png": "[encoded data removed]",
      "text/plain": [
       "<Figure size 432x288 with 1 Axes>"
      ]
     },
     "metadata": {},
     "output_type": "display_data"
    }
   ],
   "source": [
    "place_global_tweets_df['place'].value_counts().head(6).plot(kind='pie', title=\"Top 6 user locations\");\n",
    "# Top 6 user locations"
   ]
  },
  {
   "cell_type": "code",
   "execution_count": null,
   "metadata": {},
   "outputs": [],
   "source": []
  }
 ],
 "metadata": {
  "interpreter": {
   "hash": "23594bc56d5e7779377c96f362b7b8ee0ca743d7d4ba50996de9368b2850dabe"
  },
  "kernelspec": {
   "display_name": "Python 3.9.7 ('base')",
   "language": "python",
   "name": "python3"
  },
  "language_info": {
   "codemirror_mode": {
    "name": "ipython",
    "version": 3
   },
   "file_extension": ".py",
   "mimetype": "text/x-python",
   "name": "python",
   "nbconvert_exporter": "python",
   "pygments_lexer": "ipython3",
   "version": "3.9.7"
  },
  "orig_nbformat": 4
 },
 "nbformat": 4,
 "nbformat_minor": 2
}
